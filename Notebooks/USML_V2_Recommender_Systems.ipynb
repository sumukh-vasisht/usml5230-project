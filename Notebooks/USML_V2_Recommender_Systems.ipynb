{
  "nbformat": 4,
  "nbformat_minor": 0,
  "metadata": {
    "colab": {
      "provenance": []
    },
    "kernelspec": {
      "name": "python3",
      "display_name": "Python 3"
    },
    "language_info": {
      "name": "python"
    }
  },
  "cells": [
    {
      "cell_type": "code",
      "execution_count": null,
      "metadata": {
        "id": "vp0ikI1qWXv2"
      },
      "outputs": [],
      "source": [
        "''' Install Spotipy package '''\n",
        "\n",
        "!pip install spotipy\n",
        "!pip install -U kaleido"
      ]
    },
    {
      "cell_type": "code",
      "source": [
        "''' Mount Google Drive '''\n",
        "\n",
        "from google.colab import drive\n",
        "drive.mount('/content/drive')"
      ],
      "metadata": {
        "colab": {
          "base_uri": "https://localhost:8080/"
        },
        "id": "f30VvdxnWb_4",
        "outputId": "187baaae-223a-45b5-9ff5-a25022875547"
      },
      "execution_count": null,
      "outputs": [
        {
          "output_type": "stream",
          "name": "stdout",
          "text": [
            "Mounted at /content/drive\n"
          ]
        }
      ]
    },
    {
      "cell_type": "code",
      "source": [
        "''' IMPORTS '''\n",
        "\n",
        "import pandas as pd\n",
        "import numpy as np\n",
        "import matplotlib.pyplot as plt\n",
        "import seaborn as sns\n",
        "from collections import Counter\n",
        "\n",
        "from sklearn.neighbors import KNeighborsClassifier\n",
        "from sklearn.model_selection import train_test_split\n",
        "from sklearn.cluster import DBSCAN, KMeans, SpectralClustering, AgglomerativeClustering\n",
        "from sklearn.neighbors import NearestNeighbors\n",
        "from collections import Counter\n",
        "from sklearn.decomposition import PCA\n",
        "from sklearn.mixture import GaussianMixture\n",
        "\n",
        "from sklearn.manifold import TSNE\n",
        "import plotly.express as px\n",
        "import plotly.graph_objects as go\n",
        "from plotly.offline import plot\n",
        "from plotly.subplots import make_subplots\n",
        "import kaleido\n",
        "import plotly\n",
        "\n",
        "from sklearn.preprocessing import StandardScaler\n",
        "from sklearn.pipeline import Pipeline\n",
        "\n",
        "import spotipy\n",
        "from spotipy.oauth2 import SpotifyClientCredentials\n",
        "from collections import defaultdict\n",
        "\n",
        "from sklearn.metrics import euclidean_distances\n",
        "from scipy.spatial.distance import cdist\n",
        "import difflib\n",
        "\n",
        "import warnings\n",
        "warnings.filterwarnings('ignore')"
      ],
      "metadata": {
        "id": "uIxNwBx6WdTE"
      },
      "execution_count": null,
      "outputs": []
    },
    {
      "cell_type": "code",
      "source": [
        "''' SPOTIPY TOKENS '''\n",
        "\n",
        "client_id = '705dbe6ad8834b4fbee893b05bf70e11'\n",
        "client_secret = '64d5ed61ae124a9cafc9fa7aa07aca89'"
      ],
      "metadata": {
        "id": "1Am-OQUrqUTn"
      },
      "execution_count": null,
      "outputs": []
    },
    {
      "cell_type": "code",
      "source": [
        "''' READ DATA '''\n",
        "\n",
        "data = pd.read_csv('drive/MyDrive/USML/v2/data.csv')\n",
        "genre_data = pd.read_csv('drive/MyDrive/USML/v2/data_by_genres.csv')\n",
        "year_data = pd.read_csv('drive/MyDrive/USML/v2/data_by_year.csv')\n",
        "artist_data = pd.read_csv('drive/MyDrive/USML/v2/data_by_artist.csv')"
      ],
      "metadata": {
        "id": "vMwZffLUWo9X"
      },
      "execution_count": null,
      "outputs": []
    },
    {
      "cell_type": "code",
      "source": [
        "''' READ DIMENSION REDUCED DATA '''\n",
        "\n",
        "''' PCA '''\n",
        "pca_music = pd.read_csv('drive/MyDrive/USML/v2/pca_music.csv')\n",
        "pca_genre = pd.read_csv('drive/MyDrive/USML/v2/pca_genre.csv')\n",
        "pca_artist = pd.read_csv('drive/MyDrive/USML/v2/pca_artist.csv')\n",
        "\n",
        "''' TSNE '''\n",
        "tsne_music = pd.read_csv('drive/MyDrive/USML/v2/tsne_music.csv')\n",
        "tsne_genre = pd.read_csv('drive/MyDrive/USML/v2/tsne_genre.csv')\n",
        "tsne_artist = pd.read_csv('drive/MyDrive/USML/v2/tsne_artist.csv')"
      ],
      "metadata": {
        "id": "I2Ej1N2-Wsbb"
      },
      "execution_count": null,
      "outputs": []
    },
    {
      "cell_type": "code",
      "source": [
        "''' Columns of data to be considered '''\n",
        "\n",
        "columns_of_interest = ['danceability', 'energy', 'key',\n",
        "       'loudness', 'mode', 'speechiness', 'acousticness', 'instrumentalness',\n",
        "       'liveness', 'valence', 'tempo', 'duration_ms', 'popularity', 'year']"
      ],
      "metadata": {
        "id": "XIOOK_TPrayW"
      },
      "execution_count": null,
      "outputs": []
    },
    {
      "cell_type": "code",
      "source": [
        "''' Clustering pipeline '''\n",
        "\n",
        "track_clustering_pipeline = Pipeline([('scaler', StandardScaler()),\n",
        "                                       ('kmeans', KMeans(n_clusters = 20))],\n",
        "                                     verbose = False)\n",
        "X = data[columns_of_interest]\n",
        "track_clustering_pipeline.fit(X)"
      ],
      "metadata": {
        "colab": {
          "base_uri": "https://localhost:8080/"
        },
        "id": "zTgk78-Vw6-M",
        "outputId": "11ad386f-b155-45dd-b126-9690ebd87ec1"
      },
      "execution_count": null,
      "outputs": [
        {
          "output_type": "execute_result",
          "data": {
            "text/plain": [
              "Pipeline(steps=[('scaler', StandardScaler()),\n",
              "                ('kmeans', KMeans(n_clusters=20))])"
            ]
          },
          "metadata": {},
          "execution_count": 8
        }
      ]
    },
    {
      "cell_type": "markdown",
      "source": [
        "<h2> Content Based Song Recommendation System </h2>"
      ],
      "metadata": {
        "id": "OLowIJg67uld"
      }
    },
    {
      "cell_type": "code",
      "source": [
        "''' SPOTIPY API '''\n",
        "\n",
        "sp = spotipy.Spotify(auth_manager=SpotifyClientCredentials(client_id = client_id,\n",
        "                                                           client_secret = client_secret))"
      ],
      "metadata": {
        "id": "od3jL71VqpfS"
      },
      "execution_count": null,
      "outputs": []
    },
    {
      "cell_type": "code",
      "source": [
        "'''\n",
        "Funtion to fetch song details from Spotipy API\n",
        "\n",
        "Input Params: song_name str, year str\n",
        "Returns: metadata of song\n",
        "'''\n",
        "\n",
        "def get_track_details_from_spotify(song_name, year):\n",
        "\n",
        "  track_data = {}\n",
        "\n",
        "  query = 'track: ' + song_name + ' year: ' + str(year)\n",
        "  results = sp.search(query, limit=1)\n",
        "  # If search result empty, return None\n",
        "  if results['tracks']['items'] == []:\n",
        "    return None\n",
        "\n",
        "  # Get results\n",
        "  results = results['tracks']['items'][0]\n",
        "  # Get track id of the song\n",
        "  track_id = results['id']\n",
        "  # Get audio features of the song\n",
        "  audio_features = sp.audio_features(track_id)[0]\n",
        "\n",
        "  # Fill track_data dict\n",
        "  track_data['name'] = [song_name]\n",
        "  track_data['year'] = [year]\n",
        "  track_data['explicit'] = [int(results['explicit'])]\n",
        "  track_data['duration_ms'] = [results['duration_ms']]\n",
        "  track_data['popularity'] = [results['popularity']]\n",
        "\n",
        "  # Fill audio features\n",
        "  for key, value in audio_features.items():\n",
        "    track_data[key] = value\n",
        "\n",
        "  # Resurt track_data dict\n",
        "  return pd.DataFrame(track_data)"
      ],
      "metadata": {
        "id": "_fmQ_OX6q8bO"
      },
      "execution_count": null,
      "outputs": []
    },
    {
      "cell_type": "code",
      "source": [
        "'''\n",
        "Get all details of track\n",
        "First search local database for the track. This reduces API calls.\n",
        "Input params: \n",
        "track dict, spotify_data pd DF\n",
        "Returns:\n",
        "track details\n",
        "'''\n",
        "def get_track_data(track, spotify_data):\n",
        "    \n",
        "    # Search local database\n",
        "    try:\n",
        "        track_data = spotify_data[(spotify_data['name'] == track['name']) \n",
        "                                & (spotify_data['year'] == track['year'])].iloc[0]\n",
        "        return track_data\n",
        "    \n",
        "    # If track not present in local database, call spotipy api\n",
        "    except:\n",
        "        return get_track_details_from_spotify(track['name'], track['year'])"
      ],
      "metadata": {
        "id": "0L8CHAECtYca"
      },
      "execution_count": null,
      "outputs": []
    },
    {
      "cell_type": "code",
      "source": [
        "def get_mean_vec(track_list, spotify_data):\n",
        "    \n",
        "    print(track_list)\n",
        "\n",
        "    track_vectors = []\n",
        "    \n",
        "    for track in track_list:\n",
        "        track_data = get_track_data(track, spotify_data)\n",
        "        print(track_data)\n",
        "        if track_data is None:\n",
        "            print('Warning: {} does not exist in Spotify or in database'.format(track['name']))\n",
        "            continue\n",
        "        track_vector = track_data[columns_of_interest].values\n",
        "        print('---------------------------')\n",
        "        print(track_vector)\n",
        "        print('---------------------------')\n",
        "        track_vectors.append(track_vector) \n",
        "    print(track_vectors) \n",
        "    print('---------------------------')\n",
        "    \n",
        "    track_matrix = np.array(list(track_vectors))\n",
        "    print(track_matrix)\n",
        "    print('---------------------------')\n",
        "    print(np.mean(track_matrix, axis=0))\n",
        "    return np.mean(track_matrix, axis=0)"
      ],
      "metadata": {
        "id": "9kR_Dqrfwrox"
      },
      "execution_count": null,
      "outputs": []
    },
    {
      "cell_type": "code",
      "source": [
        "'''\n",
        "Recommend songs using already clustered data\n",
        "Input params: \n",
        "track_list list, spotify_data pd DF, number of tracks to recommend int\n",
        "Returns:\n",
        "recommended tracks\n",
        "'''\n",
        "def recommend_tracks(track_list, spotify_data, n_tracks=10):\n",
        "    \n",
        "    columns = ['name', 'year', 'artists']\n",
        "    track_dict = {\n",
        "        'name': [],\n",
        "        'year': []\n",
        "    }\n",
        "    for dictionary in track_list:\n",
        "      track_dict['name'].append(dictionary['name'])\n",
        "      track_dict['year'].append(dictionary['year'])\n",
        "    # print(track_dict)\n",
        "\n",
        "    # Get track center, scale data and get recommendations    \n",
        "    track_center = get_mean_vec(track_list, spotify_data)\n",
        "    scaler = track_clustering_pipeline.steps[0][1]\n",
        "    scaled_data = scaler.transform(spotify_data[columns_of_interest])\n",
        "    scaled_track_center = scaler.transform(track_center.reshape(1, -1))\n",
        "    distances = cdist(scaled_track_center, scaled_data, 'cosine')\n",
        "    index = list(np.argsort(distances)[:, :n_tracks][0])\n",
        "    \n",
        "    # Get recommended tracks\n",
        "    # print(type(index[0]))\n",
        "    # print(index)\n",
        "    recommended_tracks = spotify_data.iloc[index]\n",
        "    # print(recommended_tracks)\n",
        "    # Remove all those tracks already in the playlist\n",
        "    recommended_tracks = recommended_tracks[~recommended_tracks['name'].isin(track_dict['name'])]\n",
        "    # Return recommended tracks\n",
        "    return recommended_tracks[columns].to_dict(orient='records')"
      ],
      "metadata": {
        "id": "wBOvGOVVwurJ"
      },
      "execution_count": null,
      "outputs": []
    },
    {
      "cell_type": "code",
      "source": [
        "recommend_tracks([{'name': 'believer', 'year':2017}], data)"
      ],
      "metadata": {
        "colab": {
          "base_uri": "https://localhost:8080/"
        },
        "id": "yp2D7QZXuBVQ",
        "outputId": "04af6401-987d-4fd4-8eca-e8da5b7a147b"
      },
      "execution_count": null,
      "outputs": [
        {
          "output_type": "stream",
          "name": "stdout",
          "text": [
            "[{'name': 'believer', 'year': 2017}]\n",
            "       name  year  explicit  duration_ms  popularity  danceability  energy  \\\n",
            "0  believer  2017         0       204347          88         0.776    0.78   \n",
            "\n",
            "   key  loudness  mode  ...  instrumentalness  liveness  valence    tempo  \\\n",
            "0   10    -4.374     0  ...                 0     0.081    0.666  124.949   \n",
            "\n",
            "             type                      id  \\\n",
            "0  audio_features  0pqnGHJpmpxLKifKRmU6WP   \n",
            "\n",
            "                                    uri  \\\n",
            "0  spotify:track:0pqnGHJpmpxLKifKRmU6WP   \n",
            "\n",
            "                                          track_href  \\\n",
            "0  https://api.spotify.com/v1/tracks/0pqnGHJpmpxL...   \n",
            "\n",
            "                                        analysis_url time_signature  \n",
            "0  https://api.spotify.com/v1/audio-analysis/0pqn...              4  \n",
            "\n",
            "[1 rows x 22 columns]\n",
            "---------------------------\n",
            "[[ 7.76000e-01  7.80000e-01  1.00000e+01 -4.37400e+00  0.00000e+00\n",
            "   1.28000e-01  6.22000e-02  0.00000e+00  8.10000e-02  6.66000e-01\n",
            "   1.24949e+02  2.04347e+05  8.80000e+01  2.01700e+03]]\n",
            "---------------------------\n",
            "[array([[ 7.76000e-01,  7.80000e-01,  1.00000e+01, -4.37400e+00,\n",
            "         0.00000e+00,  1.28000e-01,  6.22000e-02,  0.00000e+00,\n",
            "         8.10000e-02,  6.66000e-01,  1.24949e+02,  2.04347e+05,\n",
            "         8.80000e+01,  2.01700e+03]])]\n",
            "---------------------------\n",
            "[[[ 7.76000e-01  7.80000e-01  1.00000e+01 -4.37400e+00  0.00000e+00\n",
            "    1.28000e-01  6.22000e-02  0.00000e+00  8.10000e-02  6.66000e-01\n",
            "    1.24949e+02  2.04347e+05  8.80000e+01  2.01700e+03]]]\n",
            "---------------------------\n",
            "[[ 7.76000e-01  7.80000e-01  1.00000e+01 -4.37400e+00  0.00000e+00\n",
            "   1.28000e-01  6.22000e-02  0.00000e+00  8.10000e-02  6.66000e-01\n",
            "   1.24949e+02  2.04347e+05  8.80000e+01  2.01700e+03]]\n"
          ]
        },
        {
          "output_type": "execute_result",
          "data": {
            "text/plain": [
              "[{'name': 'Believer', 'year': 2017, 'artists': \"['Imagine Dragons']\"},\n",
              " {'name': \"Don't Start Now\", 'year': 2019, 'artists': \"['Dua Lipa']\"},\n",
              " {'name': \"Don't Start Now\", 'year': 2020, 'artists': \"['Dua Lipa']\"},\n",
              " {'name': 'One Kiss (with Dua Lipa)',\n",
              "  'year': 2018,\n",
              "  'artists': \"['Calvin Harris', 'Dua Lipa']\"},\n",
              " {'name': 'motive (with Doja Cat)',\n",
              "  'year': 2020,\n",
              "  'artists': \"['Ariana Grande', 'Doja Cat']\"},\n",
              " {'name': 'New Rules', 'year': 2017, 'artists': \"['Dua Lipa']\"},\n",
              " {'name': 'Waka Waka (This Time for Africa) [The Official 2010 FIFA World Cup (TM) Song] (feat. Freshlyground)',\n",
              "  'year': 2010,\n",
              "  'artists': \"['Shakira', 'Freshlyground']\"},\n",
              " {'name': 'Look What You Made Me Do',\n",
              "  'year': 2017,\n",
              "  'artists': \"['Taylor Swift']\"},\n",
              " {'name': '20 Min', 'year': 2017, 'artists': \"['Lil Uzi Vert']\"},\n",
              " {'name': 'Hallucinate', 'year': 2020, 'artists': \"['Dua Lipa']\"}]"
            ]
          },
          "metadata": {},
          "execution_count": 15
        }
      ]
    },
    {
      "cell_type": "markdown",
      "source": [
        "<h2> Collaberative Filtering based Recommender System <h2>"
      ],
      "metadata": {
        "id": "v4XYXUDywyyp"
      }
    },
    {
      "cell_type": "code",
      "source": [],
      "metadata": {
        "id": "SjQMHtHquF4d"
      },
      "execution_count": null,
      "outputs": []
    }
  ]
}